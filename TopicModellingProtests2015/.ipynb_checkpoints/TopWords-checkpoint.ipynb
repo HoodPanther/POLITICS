{
 "cells": [
  {
   "cell_type": "code",
   "execution_count": 1,
   "metadata": {
    "collapsed": true
   },
   "outputs": [],
   "source": [
    "from collections import defaultdict\n",
    "import pandas as pd\n",
    "import gzip"
   ]
  },
  {
   "cell_type": "code",
   "execution_count": 2,
   "metadata": {
    "collapsed": true
   },
   "outputs": [],
   "source": [
    "CONGOV_LDA = 'tw_topicos_lda_15.txt.gz'\n",
    "CONGOV_LSI = 'tw_topicos_lsi_15.txt.gz'\n",
    "\n",
    "PROGOV_LDA = 'tw_topicos_lda_13.txt.gz'\n",
    "PROGOV_LSI = 'tw_topicos_lsi_13.txt.gz'"
   ]
  },
  {
   "cell_type": "code",
   "execution_count": 71,
   "metadata": {
    "collapsed": false
   },
   "outputs": [],
   "source": [
    "def ExtractTopics(filename):\n",
    "    topic = set()\n",
    "    f = gzip.open(filename)\n",
    "    for l in f:\n",
    "        t = l.split(' $&% ')[-1].strip()\n",
    "        if '*' in t:\n",
    "            topic.add(t)\n",
    "    f.close()\n",
    "    return topic\n",
    "\n",
    "def TopWords(topic,thr):\n",
    "    words = defaultdict(float)\n",
    "    for t in topic:\n",
    "        for word in t.split('+'):\n",
    "            prob, w = word.split('*')\n",
    "            prob = float(prob)\n",
    "            if words[w] < prob:\n",
    "                words[w] = prob\n",
    "    topics = sorted(words.items(), key=lambda x: float(x[1]), reverse=True)\n",
    "    return map(lambda x: '{0} ({1})'.format(x[0].replace('\"',''),x[1]), topics[:thr])"
   ]
  },
  {
   "cell_type": "code",
   "execution_count": 75,
   "metadata": {
    "collapsed": true
   },
   "outputs": [],
   "source": [
    "progov = {\"PLSI\": TopWords(ExtractTopics(PROGOV_LSI),10), \n",
    "          \"LDA\": TopWords(ExtractTopics(PROGOV_LDA),10)}\n",
    "\n",
    "congov = {\"PLSI\": TopWords(ExtractTopics(CONGOV_LSI),10), \n",
    "          \"LDA\": TopWords(ExtractTopics(CONGOV_LDA),10)}"
   ]
  },
  {
   "cell_type": "code",
   "execution_count": 76,
   "metadata": {
    "collapsed": false
   },
   "outputs": [],
   "source": [
    "progov_df = pd.DataFrame(progov)\n",
    "congov_df = pd.DataFrame(congov)"
   ]
  },
  {
   "cell_type": "code",
   "execution_count": 79,
   "metadata": {
    "collapsed": false
   },
   "outputs": [
    {
     "name": "stdout",
     "output_type": "stream",
     "text": [
      "\\begin{tabular}{lll}\n",
      "\\toprule\n",
      "{} &                             LDA &                            PLSI \\\\\n",
      "\\midrule\n",
      "0 &          globogolpista  (0.293) &         globoquergolpe  (0.824) \\\\\n",
      "1 &         dia13diadeluta  (0.246) &  domingoeunaovouporque  (0.569) \\\\\n",
      "2 &  domingoeunaovouporque  (0.184) &          dia13diadeluta  (0.54) \\\\\n",
      "3 &                  dilma  (0.171) &     vemprarua15demarco  (0.532) \\\\\n",
      "4 &              foradilma  (0.144) &                 defesa  (0.478) \\\\\n",
      "5 &                   povo  (0.138) &          globogolpista  (0.453) \\\\\n",
      "6 &     vemprarua15demarco  (0.138) &                    dia  (0.392) \\\\\n",
      "7 &                     pt  (0.136) &                 apoiou  (0.367) \\\\\n",
      "8 &         globoquergolpe  (0.135) &                 sonega  (0.367) \\\\\n",
      "9 &                  vamos  (0.129) &               boicotou  (0.366) \\\\\n",
      "\\bottomrule\n",
      "\\end{tabular}\n",
      "\n",
      "\\begin{tabular}{lll}\n",
      "\\toprule\n",
      "{} &                              LDA &                           PLSI \\\\\n",
      "\\midrule\n",
      "0 &               foradilma  (0.366) &         globogolpista  (0.591) \\\\\n",
      "1 &                   dilma  (0.295) &  familiamarinhonohsbc  (0.571) \\\\\n",
      "2 &               vemprarua  (0.241) &                 tchau  (0.548) \\\\\n",
      "3 &           globogolpista  (0.224) &    vemprarua15demarco  (0.487) \\\\\n",
      "4 &                   tchau  (0.219) &                    15  (0.463) \\\\\n",
      "5 &                    povo  (0.218) &              brasilia  (0.444) \\\\\n",
      "6 &                  forapt  (0.188) &                forapt  (0.407) \\\\\n",
      "7 &                      pt  (0.181) &             vemprarua  (0.401) \\\\\n",
      "8 &        impeachmentdilma  (0.177) &                 dilma  (0.388) \\\\\n",
      "9 &  menosodiomaisdemocracia  (0.15) &               twitaco  (0.366) \\\\\n",
      "\\bottomrule\n",
      "\\end{tabular}\n",
      "\n"
     ]
    }
   ],
   "source": [
    "print progov_df.to_latex()\n",
    "print congov_df.to_latex()"
   ]
  },
  {
   "cell_type": "code",
   "execution_count": null,
   "metadata": {
    "collapsed": true
   },
   "outputs": [],
   "source": []
  }
 ],
 "metadata": {
  "kernelspec": {
   "display_name": "Python 2",
   "language": "python",
   "name": "python2"
  },
  "language_info": {
   "codemirror_mode": {
    "name": "ipython",
    "version": 2
   },
   "file_extension": ".py",
   "mimetype": "text/x-python",
   "name": "python",
   "nbconvert_exporter": "python",
   "pygments_lexer": "ipython2",
   "version": "2.7.10"
  }
 },
 "nbformat": 4,
 "nbformat_minor": 0
}
